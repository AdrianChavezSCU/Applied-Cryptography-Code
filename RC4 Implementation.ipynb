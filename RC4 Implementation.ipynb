{
 "cells": [
  {
   "cell_type": "code",
   "execution_count": 178,
   "metadata": {
    "collapsed": false
   },
   "outputs": [],
   "source": [
    "def SubroutineA(x,y): \n",
    "    binary = []\n",
    "\n",
    "    while y >= 0 and len(binary) < x:\n",
    "        leftover = y % 2       #gets the value of either 1 or 0 \n",
    "        binary.append(leftover) #add to the list of binary the value stored in leftover \n",
    "        y = y // 2              #this is floor division in Python \n",
    "    binary.reverse()           #reverse the order of the elements in the list binary \n",
    "    return binary\n",
    "    \n",
    "def SubroutineB(l):\n",
    "    total = 0 \n",
    "    l.reverse()             #reverse the elements in the array so that their index corresponds to the power \n",
    "    for i in range(0,len(l)):\n",
    "        if l[i] == 1: \n",
    "            total = total + pow(2,i)  #Since the list was reverse i corresponds to the proper power to raise 2 by \n",
    "    return total"
   ]
  },
  {
   "cell_type": "code",
   "execution_count": 219,
   "metadata": {
    "collapsed": false
   },
   "outputs": [],
   "source": [
    "def rc4(n,l,key): \n",
    "    S = []\n",
    "    K = []\n",
    "    KSr = []\n",
    "    keystream = ''\n",
    "    for i in range(0,len(key)):\n",
    "        subkey = [] #this is a list that will hold n-bit lists to be converted by SubroutineB\n",
    "        if i%n == 0:\n",
    "            for j in range(i,i+n): \n",
    "                subkey.append(key[j]) \n",
    "            K.append(SubroutineB(subkey)) #add the decimal value of the n-bit list in subkey to K\n",
    "            \n",
    "    if pow(2,n) > len(K): \n",
    "        for i in range(0, pow(2,n)-len(K)):\n",
    "            K.append(K[i]) #if the length of K isn't big enough then repeat the list and add to the end of it \n",
    "            \n",
    "    for i in range(0,pow(2,n)):\n",
    "        S.append(i) #Fill the list S with numbers from 0 to 2^n -1 \n",
    "        \n",
    "    j = 0\n",
    "    \n",
    "    for i in range (0, pow(2,n)):      #this is the first part of the given pseudocode\n",
    "        j = (j + S[i] + K[i])%pow(2,n)\n",
    "        S[i],S[j] = S[j],S[i]          #this is how you simply swap two elements of a list in Python \n",
    "        \n",
    "    i = 0 \n",
    "    j = 0 \n",
    "    \n",
    "    for r in range(0,l): #this is the second part of the given pseudocode\n",
    "        i = (i + 1)%pow(2,n)\n",
    "        print 'i: ', i\n",
    "        j = (j + S[i])%pow(2,n)\n",
    "        print 'j: ', j\n",
    "        S[i],S[j] = S[j],S[i]       #swap\n",
    "        print S \n",
    "        t = (S[i] + S[j])%pow(2,n)\n",
    "        print 't: ', t\n",
    "        KSr.append(S[t])\n",
    "        print KSr\n",
    "    \n",
    "    for i in range(0,len(KSr)):\n",
    "        mylist = SubroutineA(n,KSr[i]) #get a list of n-bits from a decimal value at KSr[i]\n",
    "        for j in range(0,n): \n",
    "            keystream = keystream + str(mylist[j]) #put everything from mylist and put it into a string \n",
    "    print keystream"
   ]
  },
  {
   "cell_type": "code",
   "execution_count": null,
   "metadata": {
    "collapsed": false
   },
   "outputs": [],
   "source": []
  },
  {
   "cell_type": "code",
   "execution_count": 220,
   "metadata": {
    "collapsed": false,
    "scrolled": true
   },
   "outputs": [
    {
     "name": "stdout",
     "output_type": "stream",
     "text": [
      "i:  1\n",
      "j:  0\n",
      "[0, 2, 7, 5, 3, 4, 1, 6]\n",
      "t:  2\n",
      "[7]\n",
      "i:  2\n",
      "j:  7\n",
      "[0, 2, 6, 5, 3, 4, 1, 7]\n",
      "t:  5\n",
      "[7, 4]\n",
      "i:  3\n",
      "j:  4\n",
      "[0, 2, 6, 3, 5, 4, 1, 7]\n",
      "t:  0\n",
      "[7, 4, 0]\n",
      "i:  4\n",
      "j:  1\n",
      "[0, 5, 6, 3, 2, 4, 1, 7]\n",
      "t:  7\n",
      "[7, 4, 0, 7]\n",
      "i:  5\n",
      "j:  5\n",
      "[0, 5, 6, 3, 2, 4, 1, 7]\n",
      "t:  0\n",
      "[7, 4, 0, 7, 0]\n",
      "i:  6\n",
      "j:  6\n",
      "[0, 5, 6, 3, 2, 4, 1, 7]\n",
      "t:  2\n",
      "[7, 4, 0, 7, 0, 6]\n",
      "i:  7\n",
      "j:  5\n",
      "[0, 5, 6, 3, 2, 7, 1, 4]\n",
      "t:  3\n",
      "[7, 4, 0, 7, 0, 6, 3]\n",
      "i:  0\n",
      "j:  5\n",
      "[7, 5, 6, 3, 2, 0, 1, 4]\n",
      "t:  7\n",
      "[7, 4, 0, 7, 0, 6, 3, 4]\n",
      "i:  1\n",
      "j:  2\n",
      "[7, 6, 5, 3, 2, 0, 1, 4]\n",
      "t:  3\n",
      "[7, 4, 0, 7, 0, 6, 3, 4, 3]\n",
      "i:  2\n",
      "j:  7\n",
      "[7, 6, 4, 3, 2, 0, 1, 5]\n",
      "t:  1\n",
      "[7, 4, 0, 7, 0, 6, 3, 4, 3, 6]\n",
      "i:  3\n",
      "j:  2\n",
      "[7, 6, 3, 4, 2, 0, 1, 5]\n",
      "t:  7\n",
      "[7, 4, 0, 7, 0, 6, 3, 4, 3, 6, 5]\n",
      "111100000111000110011100011110101\n"
     ]
    }
   ],
   "source": [
    "rc4(3,11,[1,1,0,1,1,1,0,0,0,0,1,1,0,0,1,0,1,1])"
   ]
  },
  {
   "cell_type": "code",
   "execution_count": 212,
   "metadata": {
    "collapsed": false
   },
   "outputs": [
    {
     "name": "stdout",
     "output_type": "stream",
     "text": [
      "11100001101110100011001100100101111001001010011100001110000100100000101100111100110000001011010010011000001010001110111100010110101011011100100000100111111000011010101000101111010111010110001111111110110111110100000011100100\n"
     ]
    }
   ],
   "source": [
    "mylist = [1, 1, 1, 0, 0, 0, 0, 1, 1, 0, 1, 1, 1, 0, 1, 0, 0, 0, 1, 1, 0, 0, 1, 1, 0, 0, 1, 0, 0, 1, 0, 1, 1, 1, 1, 0, 0, 1, 0, 0, 1, 0, 1, 0, 0, 1, 1, 1, 0, 0, 0, 0, 1, 1, 1, 0, 0, 0, 0, 1, 0, 0, 1, 0, 0, 0, 0, 0, 1, 0, 1, 1, 0, 0, 1, 1, 1, 1, 0, 0, 1, 1, 0, 0, 0, 0, 0, 0, 1, 0, 1, 1, 0, 1, 0, 0, 1, 0, 0, 1, 1, 0, 0, 0, 0, 0, 1, 0, 1, 0, 0, 0, 1, 1, 1, 0, 1, 1, 1, 1, 0, 0, 0, 1, 0, 1, 1, 0, 1, 0, 1, 0, 1, 1, 0, 1, 1, 1, 0, 0, 1, 0, 0, 0, 0, 0, 1, 0, 0, 1, 1, 1, 1, 1, 1, 0, 0, 0, 0, 1, 1, 0, 1, 0, 1, 0, 1, 0, 0, 0, 1, 0, 1, 1, 1, 1, 0, 1, 0, 1, 1, 1, 0, 1, 0, 1, 1, 0, 0, 0, 1, 1, 1, 1, 1, 1, 1, 1, 1, 0, 1, 1, 0, 1, 1, 1, 1, 1, 0, 1, 0, 0, 0, 0, 0, 0, 1, 1, 1, 0, 0, 1, 0, 0]\n",
    "string = ''\n",
    "for i in range(0,len(mylist)):\n",
    "    string = string + str(mylist[i])\n",
    "print string"
   ]
  },
  {
   "cell_type": "code",
   "execution_count": null,
   "metadata": {
    "collapsed": true
   },
   "outputs": [],
   "source": []
  }
 ],
 "metadata": {
  "kernelspec": {
   "display_name": "Python 2",
   "language": "python",
   "name": "python2"
  },
  "language_info": {
   "codemirror_mode": {
    "name": "ipython",
    "version": 2
   },
   "file_extension": ".py",
   "mimetype": "text/x-python",
   "name": "python",
   "nbconvert_exporter": "python",
   "pygments_lexer": "ipython2",
   "version": "2.7.11"
  }
 },
 "nbformat": 4,
 "nbformat_minor": 0
}
