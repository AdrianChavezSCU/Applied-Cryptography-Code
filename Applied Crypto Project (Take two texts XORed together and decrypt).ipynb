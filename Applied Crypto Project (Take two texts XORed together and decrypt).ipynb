{
 "cells": [
  {
   "cell_type": "code",
   "execution_count": 17,
   "metadata": {
    "collapsed": false
   },
   "outputs": [
    {
     "name": "stdout",
     "output_type": "stream",
     "text": [
      "['a', 'b', 'c', 'd', 'e', 'f', 'g', 'h', 'i', 'j', 'k', 'l', 'm', 'n', 'o', 'p', 'q', 'r', 's', 't', 'u', 'v', 'w', 'x', 'y', 'z', '.', '_']\n",
      "28\n"
     ]
    }
   ],
   "source": [
    "import string\n",
    "import numpy as np \n",
    "\n",
    "alphabet = 'a b c d e f g h i j k l m n o p q r s t u v w x y z . _'\n",
    "bin_alpha = '00000 00001 00010 00011 00100 00101 00110 00111 01000 01001 01010 01011 01100 01101 01110 01111 10000 10001 10010 10011 10100 10101 10110 10111 11000 11001 11010 11011'\n",
    "\n",
    "alphabet = alphabet.split(' ')\n",
    "bin_alpha = bin_alpha.split(' ')\n",
    "print alphabet\n",
    "print len(alphabet)\n",
    "\n",
    "def findindex(alpha): #finds the index of a character in the list of characters of the alphabet\n",
    "    for i in range(0,len(alphabet)): \n",
    "        if alpha == alphabet[i]: \n",
    "            return i\n",
    "\n",
    "def convert2num(val): #converts binary strings into integers\n",
    "    integer = 0 \n",
    "    new_val = val[::-1]\n",
    "    for i in range(0,len(new_val)): \n",
    "        if new_val[i] == '1': \n",
    "            integer = integer + 2**i \n",
    "    return integer\n",
    "            \n",
    "def XOR(val1,val2): #returns the XOR result of any two binary strings \n",
    "    xor_string = ''\n",
    "    for i in range(0,len(val1)): \n",
    "        if val1[i] == '1' and val2[i] == '1': \n",
    "            xor_string = xor_string + '0'\n",
    "        if val1[i] == '1' and val2[i] =='0': \n",
    "            xor_string = xor_string + '1'\n",
    "        if val1[i] == '0' and val2[i] == '1': \n",
    "            xor_string = xor_string + '1'\n",
    "        if val1[i] == '0' and val2[i] == '0': \n",
    "            xor_string = xor_string + '0'\n",
    "    return xor_string\n",
    "\n",
    "pair = []\n",
    "\n",
    "case1 = ['00000','aa','bb','cc','dd','ee','ff','gg','hh','ii','jj','kk','ll','mm','nn','oo','pp','qq','rr','ss','tt','uu','vv','ww','xx','yy','zz','..', '__']\n",
    "case2 = [['00001','ab','cd','ef','gh','ij','kl','mn','op','qr','st','uv','wx','yz','._'],\n",
    "         ['00010','ac','bd','eg','fh','ik','jl','mo','np','qs','rt','uw','vw','y.','z_'],\n",
    "         ['00011','ad','bc','eh','fg','il','jk','mp','no','qt','rs','ux','vw','y_','z.']]\n",
    "pair.append(case1)\n",
    "for i in range(0,3): \n",
    "    pair.append(case2[i])\n",
    "\n",
    "pairs = open('pairs')\n",
    "for line in pairs:\n",
    "    pair.append(line.split())\n",
    "#print pair\n",
    "\n"
   ]
  },
  {
   "cell_type": "code",
   "execution_count": 18,
   "metadata": {
    "collapsed": false
   },
   "outputs": [
    {
     "name": "stdout",
     "output_type": "stream",
     "text": [
      "['00000', '00001', '00010', '00011', '00100', '00101', '00110', '00111', '01000', '01001', '01010', '01011', '01100', '01101', '01110', '01111', '10000', '10001', '10010', '10011', '10100', '10101', '10110', '10111', '11000', '11001', '11010', '11011']\n"
     ]
    }
   ],
   "source": [
    "binary = []\n",
    "for i in range (0,28):\n",
    "    num_bin = '{:05b}'.format(i)\n",
    "    binary.append(num_bin)\n",
    "\n",
    "print binary"
   ]
  },
  {
   "cell_type": "code",
   "execution_count": 19,
   "metadata": {
    "collapsed": false
   },
   "outputs": [
    {
     "name": "stdout",
     "output_type": "stream",
     "text": [
      "['10110', '01010', '00110', '11000', '00011', '11111', '00010', '11100', '10000', '01001', '00110', '01011', '11000', '00100', '11011', '11011', '01000', '11100', '01001', '01000', '01100', '10000', '00100', '11111', '00011', '10000', '00101', '11111', '01001', '11101', '00100', '01010', '11110', '01001', '00100', '11000', '10000', '11111', '11001', '01010', '00000', '11110', '00110', '01110', '10000', '10110', '11011', '01001', '11111', '00011', '01111', '10100', '01001', '01010', '01101', '10011', '00111', '00011', '11001', '10011', '10000', '10000', '00011', '00000', '11011', '01010', '00001', '10011', '01100', '00001', '10111', '11111', '00010', '11100', '11100', '10110', '01111', '10001', '10000', '00000', '01010', '01010', '00111', '01000', '11010', '11111', '00110', '01001', '10010', '11001', '00001', '11100', '11000', '11010', '11110', '01000', '10100', '00110', '11100', '01000', '11110', '00101', '11111', '10110', '00110', '11111', '00011', '11111', '11000', '10011', '01010', '00000', '01010', '00000', '00011', '11000', '10111', '00000', '10100', '11111', '01000', '00111', '11101', '01010', '01000', '11011', '00000', '10001', '01001', '01001', '11101', '00100', '00000', '01011', '01000', '01000', '11010', '01011', '00000', '10000', '11011', '01001', '00010', '10110', '01010', '00000', '00001', '11010', '11001', '10100', '11011', '01011', '11000', '00000', '10001', '01100', '01010', '01110', '10001', '10011', '11100', '10011', '01101', '10011', '00101', '10110', '01000', '10011', '00101', '01110', '11101', '11110', '10011', '01110', '00110', '11100', '11101', '00110', '10111', '01101', '01000', '00001', '11101', '11111', '10101', '01001', '11111', '10100', '01000', '11001', '00010', '00100', '00111', '11100', '11001', '01111', '01011', '10001', '11011', '10001', '00011', '10111', '01001', '10011', '01011', '11100', '01111', '10101', '01101', '00111', '01000', '11010', '00000', '01000', '10001', '00011', '10001', '10101', '11001', '00111', '11111', '00001', '00110', '11101', '00111', '10110', '00101', '10110', '01001', '00000', '11100', '10110', '11000', '10111', '01001', '10101', '11111', '10111', '01101', '10100', '01111', '01111', '11111', '10011', '01110', '00110', '11001', '00011', '00110', '11110', '10000', '00110', '10101', '11011', '01001', '01001', '11111', '10101', '01001', '00101', '00000', '00000', '00100', '10011', '01101', '10000', '11110', '01000', '01000', '11000', '11001', '00011', '11100', '00000', '00011', '11100', '00011', '01101', '00101', '11011', '01011', '01001', '11001', '01001', '00011', '10111', '01000', '11100', '11111', '11100', '11111', '00100', '10101', '10111', '11111', '00010', '11010', '10101', '00111', '11011', '11111', '00000', '01011', '01010', '01011', '10011', '01001', '10000', '01010', '10011', '01100', '11111', '11101', '00101', '01010', '01010', '01001', '01000', '00111', '11111', '00011', '00000', '10100', '01111', '10101', '10001', '11111', '00100', '10110', '01011', '11100', '11101', '01000', '01100', '11001', '00000', '11101', '11111', '10000', '11000', '11111', '10111', '00111', '11000', '11000', '11000', '10100', '01010', '00010', '00101', '00100', '00110', '01001', '11111', '11111', '00100', '01010', '11001', '00110', '10111', '01100', '01110', '11100', '11100', '01111', '01001', '01000', '10101', '00000', '10011', '00101', '10111', '10011', '11010', '00110', '01000', '10001', '01101', '01000', '10011', '11011', '00011', '11111', '11011', '10011', '10011', '00101', '01111', '10000', '00000', '00011', '10111', '00000', '00101', '01001', '01011', '00111', '10111', '11111', '11110', '10101', '10100', '00000', '11100', '00001']\n"
     ]
    }
   ],
   "source": [
    "cipher1 = '10110 01010 00110 11000 00011 11111 00010 11100 10000 01001 00110 01011 11000 00100 11011 11011 01000 11100 01001 01000 01100 10000 00100 11111 00011 10000 00101 11111 01001 11101 00100 01010 11110 01001 00100 11000 10000 11111 11001 01010 00000 11110 00110 01110 10000 10110 11011 01001 11111 00011 01111 10100 01001 01010 01101 10011 00111 00011 11001 10011 10000 10000 00011 00000 11011 01010 00001 10011 01100 00001 10111 11111 00010 11100 11100 10110 01111 10001 10000 00000 01010 01010 00111 01000 11010 11111 00110 01001 10010 11001 00001 11100 11000 11010 11110 01000 10100 00110 11100 01000 11110 00101 11111 10110 00110 11111 00011 11111 11000 10011 01010 00000 01010 00000 00011 11000 10111 00000 10100 11111 01000 00111 11101 01010 01000 11011 00000 10001 01001 01001 11101 00100 00000 01011 01000 01000 11010 01011 00000 10000 11011 01001 00010 10110 01010 00000 00001 11010 11001 10100 11011 01011 11000 00000 10001 01100 01010 01110 10001 10011 11100 10011 01101 10011 00101 10110 01000 10011 00101 01110 11101 11110 10011 01110 00110 11100 11101 00110 10111 01101 01000 00001 11101 11111 10101 01001 11111 10100 01000 11001 00010 00100 00111 11100 11001 01111 01011 10001 11011 10001 00011 10111 01001 10011 01011 11100 01111 10101 01101 00111 01000 11010 00000 01000 10001 00011 10001 10101 11001 00111 11111 00001 00110 11101 00111 10110 00101 10110 01001 00000 11100 10110 11000 10111 01001 10101 11111 10111 01101 10100 01111 01111 11111 10011 01110 00110 11001 00011 00110 11110 10000 00110 10101 11011 01001 01001 11111 10101 01001 00101 00000 00000 00100 10011 01101 10000 11110 01000 01000 11000 11001 00011 11100 00000 00011 11100 00011 01101 00101 11011 01011 01001 11001 01001 00011 10111 01000 11100 11111 11100 11111 00100 10101 10111 11111 00010 11010 10101 00111 11011 11111 00000 01011 01010 01011 10011 01001 10000 01010 10011 01100 11111 11101 00101 01010 01010 01001 01000 00111 11111 00011 00000 10100 01111 10101 10001 11111 00100 10110 01011 11100 11101 01000 01100 11001 00000 11101 11111 10000 11000 11111 10111 00111 11000 11000 11000 10100 01010 00010 00101 00100 00110 01001 11111 11111 00100 01010 11001 00110 10111 01100 01110 11100 11100 01111 01001 01000 10101 00000 10011 00101 10111 10011 11010 00110 01000 10001 01101 01000 10011 11011 00011 11111 11011 10011 10011 00101 01111 10000 00000 00011 10111 00000 00101 01001 01011 00111 10111 11111 11110 10101 10100 00000 11100 00001'\n",
    "\n",
    "cipher2 = '10011 10100 11111 01000 10110 00000 10100 00110 00001 00111 01100 11001 10011 00101 11110 11111 10100 01011 00011 00011 11101 00111 01011 10110 01000 01111 00000 11100 10111 11100 01000 11110 01000 10111 10110 01001 11011 00110 00000 01100 01001 11011 00100 01010 01000 10010 11001 01001 00000 11110 01000 01101 01110 10011 10010 11111 01000 01011 01101 00011 00000 00101 00001 01001 11101 10000 10011 11100' \n",
    "\n",
    "cipher3 = '01000 10110 11100 00100 11001 01010 01000 00101 00000 11110 11011 01001 10101 00011 00100 01111 11000 00111 10011 11011 10101 01000 00100 00011 00000 10010 01110 01010 10110 01111 11100 00000 10011 00110 01111 11111 10000 10011 11000 00000 01001 01010 11111 10100 00010 10110 01001 00000 10001 00011 11111 01001 00011'\n",
    "\n",
    "cipher4 = '00000 10001 10011 00111 10110 00000 10111 11100 01000 01111 10101 11111 11100 10110 01101 00011 10010 00110 11111 10101 01111 01111 10101 00011 00001 11000 11011 11011 10001 01011 00101 00101 10011 11100 00000 11001 01001 00110 01001 01101 01111 00101 10000 10001 10001 10011 00100 10110 00000 01101 00111 00000 00010 11011 10100 10110 11011 10011 01010 10000 10110 00010 00000 01000 11000 00110 01010 10101 00000 10100 00110 11110 10101 10011 10001 00100 10111 00010 01011 00101 01010 10100 01011 11001 11100 00110 10000 10000 01011 11010 10110 00110 00000 11100 10110 01000 00000 00101 00000 01101 11111 10101 10011 11100 10100 01011 01111 01101 10101 00000 11010 00111 01000 00000 10000 01001 10111 10111 01001 11010 11100 11110 00000 10010 01000 00010 10111 01111 10000 01000 11110 00111 00011 11111 01011 10101 00011 11101 11011 00000 01111 01110 11110 00000 01110 01000 11110 11100 01111 01000 10100 11000 10101 10101 11011 01100 10110 10111 11000 01011 00000 11010 00000 00010 00000 00010 00001 00011 01111 00111 01001 10111 11100 10111 11100 01011 11101 10101 10010 00101 11111 00000 10010 10000 11111 10011 01111 10010 11000 01111 10010 11000 10101 00011 11110 11011 01110 01010 11111 00111 01001 10010 10011 00010 00001 10101 00101 01000 10100 10011 00000 00111 10111 11110 11111 11110 10100 10110 00000 01001 10101 11000 00111 10101 10111 01010 11010 11011 11101 10011 00111 01011 00101 11010 01000 10010 11001 11101 10001 01010 00111 11111 10000 01011 11011 10110 11010 11101 00011 01110 10101 10001 10101 10001 10000 01001 00110 01010 10100 11110 10110 01111 01010 01100 10101 01111 01001 01101 11100 00001 00011 00000 00001 01000 00000 11001 11010 10011 01011 11000 11100 00000 00001 01010 00010 00101 11001 10101 11000 10101 01001 10000 00000 01110 01000 11011 11000 11111 00110 10110 10000 01011 00101 11010 01000 01111 10100 00110 00011 01001 01001 11001 00111 11101 00000 10010 01000 00111 00100 01011 10000 11001 01011 01101 10101 01001 01000 01001 10000 01000 10101 00011 00001 00000 10100 10011 01001 11000 10001 01100 10010 01101 01100 11101 01111 11001 10011 11101 01010 11111 01110 10101 11001 01111 01011 11010 00000 00000 00111 10101 10010 10100 01000 00110 10000 01111 10011 01001 01000 11010 11111 11001 01011 01011 11000 10110 00001 10110 00100 10100 00110 11111 01001 10111 01000 00011 10010 10110 10101 11011 10010 00001 10001 00011 00111 11001 10100 10011 11101 10110 00110 00000 10001 00011 01111 10000 11001 11011 10101 11101 00011 01000 01001 11010 10011 01000 11001 01000 11110 01100 00010 00101 00000 11111 00011 10110 01101 10110 11001 11101 10011 01111 01011 01010 11010 10110 11111 01001 11100 10001 01001 11000 11100 00000 10011 01001 11001 11001 00010 01111 11011 00110 01010 10110 01000 00000 01010 00010 00110 01100 00000 01001 01001 11100 10011 01010 11111 11011 01110 01110 11111 01111 01101 11111 10100 00100 01010 01111 01110 10110 01011 00000 10000 10011 11001 11001 10000 10101 01001 10101 11111 10110 11011 00101 01011 11101 10011 00011 10110 11000 11111 11111 10011 11001 10110 01010 10011 01111 01011 11110 11100 00010 01101 11011 00100 01001 01101 00111 11001 00010 10011 11000 00000 11111 10110 01101 00000 01010 01110 11111 10110 11011 10001 11010 11100 00000 01010 01110 11100 11111 10011 10101 00010 11011 11001 10110 00101 01100 00010 01010 11011 00000 01111 01010 10110 01011 01011 11001'\n",
    "\n",
    "cipher1 = cipher1.split(' ')\n",
    "cipher2 = cipher2.split(' ')\n",
    "cipher3 = cipher3.split(' ')\n",
    "cipher4 = cipher4.split(' ')\n",
    "\n",
    "print cipher1\n",
    "#print cipher2\n",
    "#print cipher3"
   ]
  },
  {
   "cell_type": "markdown",
   "metadata": {
    "collapsed": true
   },
   "source": [
    "k = 0 \n",
    "thingy = pair\n",
    "for i in range(0,len(pt)):  \n",
    "    for j in range(0,len(thingy)):\n",
    "        if new[i] == thingy[j][0]:\n",
    "            if any(pt[i] in thingy[j][k] for thingy[j][k] in thingy[j]):\n",
    "                print thingy[j][k]"
   ]
  },
  {
   "cell_type": "code",
   "execution_count": 20,
   "metadata": {
    "collapsed": false
   },
   "outputs": [],
   "source": [
    "ct_pairs = []\n",
    "for i in range(0, len(cipher1)): \n",
    "    for j in range(0,len(pair)): \n",
    "        if cipher1[i] == pair[j][0]: \n",
    "            ct_pairs.append(pair[j])\n"
   ]
  },
  {
   "cell_type": "code",
   "execution_count": null,
   "metadata": {
    "collapsed": false
   },
   "outputs": [],
   "source": []
  },
  {
   "cell_type": "code",
   "execution_count": 21,
   "metadata": {
    "collapsed": false
   },
   "outputs": [],
   "source": [
    "def other_letter(char, cipher):\n",
    "    other_letter = ''    \n",
    "    for j in range(0,len(pair)):\n",
    "        for k in range(0,len(pair[j])):\n",
    "            if pair[j][k][0] == char and pair[j][0] == cipher: \n",
    "                other_letter = bin_alpha[findindex(pair[j][k][1])]\n",
    "                return alphabet[convert2num(other_letter)]\n",
    "            elif pair[j][k][1] == char and pair[j][0] == cipher:\n",
    "                other_letter = bin_alpha[findindex(pair[j][k][0])]\n",
    "                return alphabet[convert2num(other_letter)]"
   ]
  },
  {
   "cell_type": "code",
   "execution_count": 23,
   "metadata": {
    "collapsed": false
   },
   "outputs": [
    {
     "data": {
      "text/plain": [
       "'w'"
      ]
     },
     "execution_count": 23,
     "metadata": {},
     "output_type": "execute_result"
    }
   ],
   "source": [
    "other_letter('a', cipher1[0])"
   ]
  },
  {
   "cell_type": "code",
   "execution_count": 24,
   "metadata": {
    "collapsed": false
   },
   "outputs": [
    {
     "name": "stdout",
     "output_type": "stream",
     "text": [
      "['a', 't', '_', 't', 'h', 'e', '_', 's', 'a', 'm', 'e', '_', 't', 'i', 'm', 'e', '_', 'f', 'l', 'o', 'o', 'd', 'i', 'n', 'g', '_', 't', 'h', 'e', '_', 'i', 'n', 't', 'e', 'r', 'n', 'a', 't', 'i', 'o', 'n', 'a', 'l', '_', 'm', 'a', 'r', 'k', 'e', 't', '_', 'w', 'i', 't', 'h', '_', 't', 'o', 'n', 's', '_', 'o', 'f', '_', 'p', 'l', 'a', 'y']\n"
     ]
    }
   ],
   "source": [
    "givenpt1 = 'a t _ t h e _ s a m e _ t i m e _ f l o o d i n g _ t h e _ i n t e r n a t i o n a l _ m a r k e t _ w i t h _ t o n s _ o f _ p l'\n",
    "givenpt2 = 't h e _ r e p u b l i c a n s _ p o i n t e d _ o u t _ t h a t _ t h e _ v i c e _ p r e s i d e n t _ g a v e _ f a r _ l e s s _ t e'\n",
    "pt1 = givenpt1.split(' ')\n",
    "pt2 = givenpt2.split(' ')\n",
    "#print pt1\n",
    "#print pt2\n",
    "\n",
    "other_pt = []\n",
    "for i in range(0, len(pt2)):\n",
    "    other_pt.append(other_letter(pt2[i], cipher2[i]))\n",
    "print other_pt\n",
    "    "
   ]
  },
  {
   "cell_type": "code",
   "execution_count": 522,
   "metadata": {
    "collapsed": false
   },
   "outputs": [
    {
     "name": "stdout",
     "output_type": "stream",
     "text": [
      "['w', 'h', 'i', 'l', 'e', '_', 't', 'h', 'e', '_', 'c', 'o', 'm', 'p', 'a', 'n', 'i', 'e', 's', '_', 'c', 'l', 'a', 'i', 'm', '_', 'l', 'o', 'n', 'g', 'e', 'r', '_', 'c', 'e', 'l', 'l', '_', 'u', None]\n"
     ]
    }
   ],
   "source": [
    "pt1 = 'a n o t h e r _ u s e f u l _ w a y _ t o _ e x p l o r e _ a _ f l a t _ e n v'\n",
    "pt2 = 'w h i l e _ t h e _ c o m p a n i e s _ c l a i m _ l o n g e r _ c e l l _ u n a'\n",
    "pt1 = pt1.split(' ')\n",
    "pt2 = pt2.split(' ')\n",
    "\n",
    "other_pt = []\n",
    "for i in range(0,len(pt1)): \n",
    "    other_pt.append(other_letter(pt1[i], cipher1[i]))\n",
    "print other_pt "
   ]
  },
  {
   "cell_type": "code",
   "execution_count": 26,
   "metadata": {
    "collapsed": false
   },
   "outputs": [
    {
     "name": "stdout",
     "output_type": "stream",
     "text": [
      "[None]\n"
     ]
    }
   ],
   "source": [
    "pt1 = ''\n",
    "pt2 = ''\n",
    "\n",
    "pt1 = pt1.split(' ')\n",
    "pt2 = pt2.split(' ')\n",
    "\n",
    "other_pt = []\n",
    "for i in range(0,len(pt1)): \n",
    "    other_pt.append(other_letter(pt1[i], cipher2[i]))\n",
    "print other_pt "
   ]
  },
  {
   "cell_type": "code",
   "execution_count": 623,
   "metadata": {
    "collapsed": false,
    "scrolled": true
   },
   "outputs": [
    {
     "name": "stdout",
     "output_type": "stream",
     "text": [
      "['_vydeoq_yahjhho', 'nphzne.ibyh.zda', 'wbwnuoai_ofd.dk', 'qhbyx_woiejueik', 'uhu..ilroad_ddp', 'ltvypnpkjngavoa', 'ncjmlzutywxrroz', 'nzxb_nnhgvcruyp', 'rssjltxbeyephgo', 'buclxnhhlnjeulh', 'tcblge.uszpumn_', 'wxermtpxh.ts_ef', 'bfml_syqhxyfbkt', 'mvnrxfpvgpturqf', 'tate_transpocfa', 'usmvmyqm_ozabxv', 'ejriwapiatevjgh', 'gzeeffpjgtyujmd', 'aclfv_bpqrltvao', '_nkvlvhzscmpzno', 'um.lftr_bfqduna', 'fckdvhap.vro.un', '_mmvxuhtwyranom', 'm.plr_nhmmhugrm', 'bcglj.mijethweq', 'zcgkiuiozrthkfo', 'ecw_uiavwcwdu_f', 'j.lztomzvdoegrj', 'j.rivabnrknjs..', 'dxhvqvfyjewidzo', 'twxlmmryqzs_ind', '_ftvuf_roerdgnm', 'fwslcoxa_.ob.fi', 'grdaobhvxqvrghl', 'kidu_quruqhvujo', 'otr._sjn.tsuluo', 'otucnr_zycoxuxs', 'ksnnbprrbhioorw', 'fulbhoaodrfybzt', 'rorecwtgnnftbbb', 'xxlcghoeomm_yci', 'onngx.mhpfec_lq', 'ycfdlcvufvy_asz', 'cyxathpgepbcuao', 'ssefdaxyi_uqect', 'ljbrdu_bnencgf_', 'ylnsmgpvgkaqrbq', 's_dwljhakguckvo', 'jkdpalwmdyntiit', 'tfaa_cek_emsrqo', 'wxndclhsnmepsrd', 'olmc_t.epnqiiak', 'skn_domgozxszjx', 'lkrik__uhvvxtvx', '_wxctkdvdbzuylg', 's.vhzwd.buxglhv', 'xqjhwuwuth_vubu', 'wozesisnrdrcotb', 'ty_saqxrp_aphhs', 'e_patnorkzceipt', 'jdvimc_ut_c_q_u', 'gucl.yaxxwrgcqs', '_the_customs_lt', 'kbl_sa..nfnbsqc', 'syxdstrlmieecow', 'brmsdfdfln_yxvn', 't_mvhzkhroswxbg', 'xabluyzkyuziotr', 'zheuincrxqxuksb', 'npsswiamexseiek', 'grlabbzyhrvsze_', 'hcxcscnivlonjyr', 'rumlbzjloenhsse', 'xcncxifyvdkeove', 'hrouqvbyba_pfsu', 'ezkfuucy.joupoq', 'amkuewqtkhlvxt_', 'vm_ege_decknkyl', '_sxssl.o_ssaetg', 'nzbawimrws_iyor', 'i_sbyuezspjafrw', 'rrlavhnkvjnwgbz', 'uj.xjwudhadcdld', 'hajqpscaxpxdbhn', 'agngmcnuwn_nmyr', 'spdsjixhr_j_lwe', 'caxtlezkohkexdk', 'wcofunuwurerpee', 'nzvrx_fjssxoddc', 'errjqczccpoabxr', 'uisaacrupasnjps']\n"
     ]
    }
   ],
   "source": [
    "#the code below takes the string in trial and compares it character by character to every possible string of \n",
    "#length trial in the ciphertext\n",
    "\n",
    "trial = '_cell_phone_by'\n",
    "current_ct = cipher4\n",
    "graph = ''\n",
    "words = []\n",
    "pos = []\n",
    "for i in range(0, len(current_ct)):\n",
    "    for j in range(0, len(trial)):\n",
    "        if i + j < len(current_ct): \n",
    "            graph = graph + str(other_letter(trial[j], current_ct[i+j]))\n",
    "            if other_letter(trial[j], current_ct[i+j]) == None: #if the other_letter doesn't exist reset graph and start at the top\n",
    "                graph = ''\n",
    "                break \n",
    "    if graph != '' and len(graph) == len(trial): \n",
    "        pos.append(i)\n",
    "        words.append(graph) \n",
    "        graph = ''\n",
    "\n",
    "print words"
   ]
  },
  {
   "cell_type": "code",
   "execution_count": 461,
   "metadata": {
    "collapsed": false
   },
   "outputs": [],
   "source": [
    "def wordsearch(look): \n",
    "    for i in range(0, len(words)): \n",
    "        if words[i] == look: \n",
    "            return pos[i] \n",
    "        \n",
    "def ctsearch(num, value, possible, current_ct): \n",
    "    word = []\n",
    "    portion = []\n",
    "    for i in range(0,value): \n",
    "        word.append(other_letter(possible[i],current_ct[num+i]))\n",
    "        portion.append(current_ct[num+i])\n",
    "    print word\n",
    "    return portion"
   ]
  },
  {
   "cell_type": "code",
   "execution_count": 505,
   "metadata": {
    "collapsed": false
   },
   "outputs": [
    {
     "name": "stdout",
     "output_type": "stream",
     "text": [
      "['r', 'a', 'p', 'e', '_']\n"
     ]
    },
    {
     "data": {
      "text/plain": [
       "['01010', '10110', '01111', '11100', '00000']"
      ]
     },
     "execution_count": 505,
     "metadata": {},
     "output_type": "execute_result"
    }
   ],
   "source": [
    "possible = '_way_'\n",
    "\n",
    "ctsearch(wordsearch(possible), len(trial), possible, current_ct)"
   ]
  },
  {
   "cell_type": "code",
   "execution_count": 489,
   "metadata": {
    "collapsed": false
   },
   "outputs": [
    {
     "data": {
      "text/plain": [
       "383"
      ]
     },
     "execution_count": 489,
     "metadata": {},
     "output_type": "execute_result"
    }
   ],
   "source": [
    "wordsearch(possible)"
   ]
  },
  {
   "cell_type": "code",
   "execution_count": null,
   "metadata": {
    "collapsed": true
   },
   "outputs": [],
   "source": []
  }
 ],
 "metadata": {
  "kernelspec": {
   "display_name": "Python 2",
   "language": "python",
   "name": "python2"
  },
  "language_info": {
   "codemirror_mode": {
    "name": "ipython",
    "version": 2
   },
   "file_extension": ".py",
   "mimetype": "text/x-python",
   "name": "python",
   "nbconvert_exporter": "python",
   "pygments_lexer": "ipython2",
   "version": "2.7.11"
  }
 },
 "nbformat": 4,
 "nbformat_minor": 0
}
